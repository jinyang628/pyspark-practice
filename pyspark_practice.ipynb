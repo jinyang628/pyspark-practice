{
  "nbformat": 4,
  "nbformat_minor": 0,
  "metadata": {
    "colab": {
      "provenance": [],
      "authorship_tag": "ABX9TyM5XldDpsIELJyX+DdLDTTy",
      "include_colab_link": true
    },
    "kernelspec": {
      "name": "python3",
      "display_name": "Python 3"
    },
    "language_info": {
      "name": "python"
    }
  },
  "cells": [
    {
      "cell_type": "markdown",
      "metadata": {
        "id": "view-in-github",
        "colab_type": "text"
      },
      "source": [
        "<a href=\"https://colab.research.google.com/github/jinyang628/pyspark-practice/blob/main/pyspark_practice.ipynb\" target=\"_parent\"><img src=\"https://colab.research.google.com/assets/colab-badge.svg\" alt=\"Open In Colab\"/></a>"
      ]
    },
    {
      "cell_type": "code",
      "execution_count": 36,
      "metadata": {
        "colab": {
          "base_uri": "https://localhost:8080/"
        },
        "id": "qADPDlKuz4hA",
        "outputId": "da0f1628-eb16-4c91-b80a-c8f617712778"
      },
      "outputs": [
        {
          "output_type": "stream",
          "name": "stdout",
          "text": [
            "Requirement already satisfied: pyspark in /usr/local/lib/python3.11/dist-packages (3.5.1)\n",
            "Requirement already satisfied: py4j==0.10.9.7 in /usr/local/lib/python3.11/dist-packages (from pyspark) (0.10.9.7)\n"
          ]
        }
      ],
      "source": [
        "!pip install pyspark"
      ]
    },
    {
      "cell_type": "code",
      "source": [
        "import pyspark\n",
        "import pandas as pd\n",
        "from pyspark.sql import SparkSession\n",
        "from pyspark.sql.functions import when, col\n",
        "from pyspark.sql.functions import lit\n"
      ],
      "metadata": {
        "id": "613eYkzs0Xum"
      },
      "execution_count": 37,
      "outputs": []
    },
    {
      "cell_type": "code",
      "source": [
        "spark=SparkSession.builder.appName(\"Practice\").getOrCreate() # Start session"
      ],
      "metadata": {
        "id": "rIGqbyro1A0A"
      },
      "execution_count": 38,
      "outputs": []
    },
    {
      "cell_type": "code",
      "source": [
        "df_pyspark=spark.read.csv(\"test1.csv\")"
      ],
      "metadata": {
        "id": "QAFO9e9c1FUy"
      },
      "execution_count": 39,
      "outputs": []
    },
    {
      "cell_type": "code",
      "source": [
        "df_pyspark=spark.read.csv('test1.csv', header=True, inferSchema=True) # Initialises the entire df with the original header names"
      ],
      "metadata": {
        "id": "FXmJGBCd1oUJ"
      },
      "execution_count": 40,
      "outputs": []
    },
    {
      "cell_type": "code",
      "source": [
        "df_pyspark.columns # Get all column names in a list"
      ],
      "metadata": {
        "colab": {
          "base_uri": "https://localhost:8080/"
        },
        "id": "a_JRFK1A2C5g",
        "outputId": "4fd0b5c1-b771-4fbd-f6d2-484a6355654f"
      },
      "execution_count": 41,
      "outputs": [
        {
          "output_type": "execute_result",
          "data": {
            "text/plain": [
              "['name', 'age', 'experience', 'salary']"
            ]
          },
          "metadata": {},
          "execution_count": 41
        }
      ]
    },
    {
      "cell_type": "code",
      "source": [
        "df_pyspark.select(['name', 'experience']) # Select 2 particular columns"
      ],
      "metadata": {
        "colab": {
          "base_uri": "https://localhost:8080/"
        },
        "id": "oZu5HgPG3s5A",
        "outputId": "77ce8867-4d50-44f3-af30-96c5818b9000"
      },
      "execution_count": 42,
      "outputs": [
        {
          "output_type": "execute_result",
          "data": {
            "text/plain": [
              "DataFrame[name: string, experience: int]"
            ]
          },
          "metadata": {},
          "execution_count": 42
        }
      ]
    },
    {
      "cell_type": "code",
      "source": [
        "df_appended=df_pyspark.withColumn(\"experience after 2 years\", df_pyspark['experience']+2) # Add a new column"
      ],
      "metadata": {
        "id": "u5csuL6Q38eW"
      },
      "execution_count": 43,
      "outputs": []
    },
    {
      "cell_type": "code",
      "source": [
        "df_appended.drop('experience after 2 years') # drop column"
      ],
      "metadata": {
        "colab": {
          "base_uri": "https://localhost:8080/"
        },
        "id": "pd3SntW143nP",
        "outputId": "c777025b-fe4a-445c-9a44-8884edce2dbe"
      },
      "execution_count": 44,
      "outputs": [
        {
          "output_type": "execute_result",
          "data": {
            "text/plain": [
              "DataFrame[name: string, age: int, experience: int, salary: int]"
            ]
          },
          "metadata": {},
          "execution_count": 44
        }
      ]
    },
    {
      "cell_type": "code",
      "source": [
        "df_renamed=df_pyspark.withColumnRenamed('name', 'new name') # rename column\n"
      ],
      "metadata": {
        "id": "k-NziqDs5TZ2"
      },
      "execution_count": 45,
      "outputs": []
    },
    {
      "cell_type": "code",
      "source": [
        "df_pyspark.na.drop() # drop all rows that contain a null value"
      ],
      "metadata": {
        "colab": {
          "base_uri": "https://localhost:8080/"
        },
        "id": "AeOk8qbQ6ChO",
        "outputId": "a59735d9-10c9-477a-bf79-43d22f74d2ac"
      },
      "execution_count": 46,
      "outputs": [
        {
          "output_type": "execute_result",
          "data": {
            "text/plain": [
              "DataFrame[name: string, age: int, experience: int, salary: int]"
            ]
          },
          "metadata": {},
          "execution_count": 46
        }
      ]
    },
    {
      "cell_type": "code",
      "source": [
        "df_pyspark.na.drop(how='all') # drop all rows that are fully null"
      ],
      "metadata": {
        "colab": {
          "base_uri": "https://localhost:8080/"
        },
        "id": "sBiLHJWW6reV",
        "outputId": "da99abf2-44d3-4de6-ad1e-eb45bd478a02"
      },
      "execution_count": 47,
      "outputs": [
        {
          "output_type": "execute_result",
          "data": {
            "text/plain": [
              "DataFrame[name: string, age: int, experience: int, salary: int]"
            ]
          },
          "metadata": {},
          "execution_count": 47
        }
      ]
    },
    {
      "cell_type": "code",
      "source": [
        "df_pyspark.na.drop(how='any', subset=['experience']) # only drop the row if experience column is null"
      ],
      "metadata": {
        "colab": {
          "base_uri": "https://localhost:8080/"
        },
        "id": "5QTuVBbQ7BOx",
        "outputId": "4175d9e5-e984-4f26-d634-b2f6cdce2740"
      },
      "execution_count": 48,
      "outputs": [
        {
          "output_type": "execute_result",
          "data": {
            "text/plain": [
              "DataFrame[name: string, age: int, experience: int, salary: int]"
            ]
          },
          "metadata": {},
          "execution_count": 48
        }
      ]
    },
    {
      "cell_type": "code",
      "source": [
        "# df_replaced = df_pyspark.na.fill({\"age\": \"missing values\"}) # will fail to replace null with the string because the column is not of string type\n",
        "df_replaced = df_pyspark.na.fill({\"age\": 10, \"experience\": 24}) # replace null values in age column with -1\n",
        "\n",
        "df_replaced.show()"
      ],
      "metadata": {
        "colab": {
          "base_uri": "https://localhost:8080/"
        },
        "id": "m9iLKRFu7dZ5",
        "outputId": "e2058457-621b-4fa4-853b-1cab9e7908b9"
      },
      "execution_count": 49,
      "outputs": [
        {
          "output_type": "stream",
          "name": "stdout",
          "text": [
            "+-------+---+----------+------+\n",
            "|   name|age|experience|salary|\n",
            "+-------+---+----------+------+\n",
            "|   john| 10|        24|   100|\n",
            "| thomas| 12|        24|   200|\n",
            "|jinyang| 10|        23|   300|\n",
            "+-------+---+----------+------+\n",
            "\n"
          ]
        }
      ]
    },
    {
      "cell_type": "code",
      "source": [
        "df_replaced.filter(df_replaced[\"salary\"]<200).select([\"name\",\"age\"]).show()"
      ],
      "metadata": {
        "colab": {
          "base_uri": "https://localhost:8080/"
        },
        "id": "qcxbf4BOkYsc",
        "outputId": "dce78455-1859-46ee-ba45-ad21b9952c25"
      },
      "execution_count": 50,
      "outputs": [
        {
          "output_type": "stream",
          "name": "stdout",
          "text": [
            "+----+---+\n",
            "|name|age|\n",
            "+----+---+\n",
            "|john| 10|\n",
            "+----+---+\n",
            "\n"
          ]
        }
      ]
    },
    {
      "cell_type": "code",
      "source": [
        "df_replaced.filter(\n",
        "    (df_replaced[\"salary\"]<=200) &\n",
        "    (df_replaced[\"experience\"]>=22)\n",
        "  ).select([\"name\",\"age\"]).show()"
      ],
      "metadata": {
        "colab": {
          "base_uri": "https://localhost:8080/"
        },
        "id": "cyQcI_78kvk1",
        "outputId": "4f5f6c5b-6f25-442f-f50b-bda2409af0f8"
      },
      "execution_count": 51,
      "outputs": [
        {
          "output_type": "stream",
          "name": "stdout",
          "text": [
            "+------+---+\n",
            "|  name|age|\n",
            "+------+---+\n",
            "|  john| 10|\n",
            "|thomas| 12|\n",
            "+------+---+\n",
            "\n"
          ]
        }
      ]
    },
    {
      "cell_type": "code",
      "source": [
        "df_replaced.filter(\n",
        "    (df_replaced[\"salary\"] <= 200) &\n",
        "    ~(df_replaced[\"experience\"] <= 22) # ~ is inverse\n",
        " ).select([\"name\"]).show()"
      ],
      "metadata": {
        "colab": {
          "base_uri": "https://localhost:8080/"
        },
        "id": "S4PsyFinkpJe",
        "outputId": "65104f39-7e43-4fd5-acfc-6650048a9c6c"
      },
      "execution_count": 52,
      "outputs": [
        {
          "output_type": "stream",
          "name": "stdout",
          "text": [
            "+------+\n",
            "|  name|\n",
            "+------+\n",
            "|  john|\n",
            "|thomas|\n",
            "+------+\n",
            "\n"
          ]
        }
      ]
    },
    {
      "cell_type": "code",
      "source": [
        "\n",
        "df_replaced = df_replaced.withColumn(\"department\", lit(\"sales\"))\n",
        "df_replaced.withColumn(\"department\", when(col(\"name\")==\"john\", \"education\").otherwise(col(\"department\"))).show()"
      ],
      "metadata": {
        "colab": {
          "base_uri": "https://localhost:8080/"
        },
        "id": "Hy6jqrDCkZIT",
        "outputId": "0bba1119-42d6-4c17-d657-78accb115ab4"
      },
      "execution_count": 61,
      "outputs": [
        {
          "output_type": "stream",
          "name": "stdout",
          "text": [
            "+-------+---+----------+------+----------+\n",
            "|   name|age|experience|salary|department|\n",
            "+-------+---+----------+------+----------+\n",
            "|   john| 10|        24|   100| education|\n",
            "| thomas| 12|        24|   200|     sales|\n",
            "|jinyang| 10|        23|   300|     sales|\n",
            "+-------+---+----------+------+----------+\n",
            "\n"
          ]
        }
      ]
    },
    {
      "cell_type": "code",
      "source": [
        "df_replaced.drop(\"age\", \"department\", \"experience\").groupBy(\"name\").count().show()"
      ],
      "metadata": {
        "colab": {
          "base_uri": "https://localhost:8080/"
        },
        "id": "zWnYay-wkZRp",
        "outputId": "cb162b58-0c2f-423c-8007-5a0bb05226ce"
      },
      "execution_count": 65,
      "outputs": [
        {
          "output_type": "stream",
          "name": "stdout",
          "text": [
            "+-------+-----+\n",
            "|   name|count|\n",
            "+-------+-----+\n",
            "|jinyang|    1|\n",
            "|   john|    1|\n",
            "| thomas|    1|\n",
            "+-------+-----+\n",
            "\n"
          ]
        }
      ]
    },
    {
      "cell_type": "code",
      "source": [
        "df_replaced.agg({\"salary\": \"sum\"}).show()"
      ],
      "metadata": {
        "colab": {
          "base_uri": "https://localhost:8080/"
        },
        "id": "h8qHJFt-kZXh",
        "outputId": "ef76bd45-5a89-4a8f-d2c2-727cd60072e4"
      },
      "execution_count": 67,
      "outputs": [
        {
          "output_type": "stream",
          "name": "stdout",
          "text": [
            "+-----------+\n",
            "|sum(salary)|\n",
            "+-----------+\n",
            "|        600|\n",
            "+-----------+\n",
            "\n"
          ]
        }
      ]
    },
    {
      "cell_type": "code",
      "source": [],
      "metadata": {
        "id": "ljbyo17OkZbE"
      },
      "execution_count": null,
      "outputs": []
    },
    {
      "cell_type": "code",
      "source": [],
      "metadata": {
        "id": "ZsP3NItokZd0"
      },
      "execution_count": null,
      "outputs": []
    },
    {
      "cell_type": "code",
      "source": [],
      "metadata": {
        "id": "j2o81G1kkZgs"
      },
      "execution_count": null,
      "outputs": []
    },
    {
      "cell_type": "code",
      "source": [],
      "metadata": {
        "id": "SwGHPM5NkZjs"
      },
      "execution_count": null,
      "outputs": []
    },
    {
      "cell_type": "code",
      "source": [],
      "metadata": {
        "id": "7pum7m7wkZmY"
      },
      "execution_count": null,
      "outputs": []
    }
  ]
}