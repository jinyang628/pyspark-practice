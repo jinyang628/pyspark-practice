{
  "nbformat": 4,
  "nbformat_minor": 0,
  "metadata": {
    "colab": {
      "provenance": [],
      "authorship_tag": "ABX9TyMxz5urllTMJfYV5AiAe3ux",
      "include_colab_link": true
    },
    "kernelspec": {
      "name": "python3",
      "display_name": "Python 3"
    },
    "language_info": {
      "name": "python"
    }
  },
  "cells": [
    {
      "cell_type": "markdown",
      "metadata": {
        "id": "view-in-github",
        "colab_type": "text"
      },
      "source": [
        "<a href=\"https://colab.research.google.com/github/jinyang628/pyspark-practice/blob/main/pyspark_practice.ipynb\" target=\"_parent\"><img src=\"https://colab.research.google.com/assets/colab-badge.svg\" alt=\"Open In Colab\"/></a>"
      ]
    },
    {
      "cell_type": "code",
      "execution_count": 57,
      "metadata": {
        "colab": {
          "base_uri": "https://localhost:8080/"
        },
        "id": "qADPDlKuz4hA",
        "outputId": "fc797e7c-a18b-45fa-9039-720a3dd61a09"
      },
      "outputs": [
        {
          "output_type": "stream",
          "name": "stdout",
          "text": [
            "Requirement already satisfied: pyspark in /usr/local/lib/python3.11/dist-packages (3.5.1)\n",
            "Requirement already satisfied: py4j==0.10.9.7 in /usr/local/lib/python3.11/dist-packages (from pyspark) (0.10.9.7)\n"
          ]
        }
      ],
      "source": [
        "!pip install pyspark"
      ]
    },
    {
      "cell_type": "code",
      "source": [
        "import pyspark\n",
        "import pandas as pd\n",
        "from pyspark.sql import SparkSession"
      ],
      "metadata": {
        "id": "613eYkzs0Xum"
      },
      "execution_count": 58,
      "outputs": []
    },
    {
      "cell_type": "code",
      "source": [
        "spark=SparkSession.builder.appName(\"Practice\").getOrCreate() # Start session"
      ],
      "metadata": {
        "id": "rIGqbyro1A0A"
      },
      "execution_count": 59,
      "outputs": []
    },
    {
      "cell_type": "code",
      "source": [
        "df_pyspark=spark.read.csv(\"test1.csv\")"
      ],
      "metadata": {
        "id": "QAFO9e9c1FUy"
      },
      "execution_count": 60,
      "outputs": []
    },
    {
      "cell_type": "code",
      "source": [
        "df_pyspark=spark.read.csv('test1.csv', header=True, inferSchema=True) # Initialises the entire df with the original header names"
      ],
      "metadata": {
        "id": "FXmJGBCd1oUJ"
      },
      "execution_count": 61,
      "outputs": []
    },
    {
      "cell_type": "code",
      "source": [
        "df_pyspark.columns # Get all column names in a list"
      ],
      "metadata": {
        "colab": {
          "base_uri": "https://localhost:8080/"
        },
        "id": "a_JRFK1A2C5g",
        "outputId": "dbf531ac-65f4-455e-9178-540550f60390"
      },
      "execution_count": 62,
      "outputs": [
        {
          "output_type": "execute_result",
          "data": {
            "text/plain": [
              "['name', 'age', 'experience', 'salary']"
            ]
          },
          "metadata": {},
          "execution_count": 62
        }
      ]
    },
    {
      "cell_type": "code",
      "source": [
        "df_pyspark.select(['name', 'experience']) # Select 2 particular columns"
      ],
      "metadata": {
        "colab": {
          "base_uri": "https://localhost:8080/"
        },
        "id": "oZu5HgPG3s5A",
        "outputId": "6215482a-ae17-4ae5-fae8-dee4b1d016d2"
      },
      "execution_count": 63,
      "outputs": [
        {
          "output_type": "execute_result",
          "data": {
            "text/plain": [
              "DataFrame[name: string, experience: int]"
            ]
          },
          "metadata": {},
          "execution_count": 63
        }
      ]
    },
    {
      "cell_type": "code",
      "source": [
        "df_appended=df_pyspark.withColumn(\"experience after 2 years\", df_pyspark['experience']+2) # Add a new column"
      ],
      "metadata": {
        "id": "u5csuL6Q38eW"
      },
      "execution_count": 64,
      "outputs": []
    },
    {
      "cell_type": "code",
      "source": [
        "df_appended.drop('experience after 2 years') # drop column"
      ],
      "metadata": {
        "colab": {
          "base_uri": "https://localhost:8080/"
        },
        "id": "pd3SntW143nP",
        "outputId": "963e7703-05f2-4e15-ba1b-dddbb68a2462"
      },
      "execution_count": 65,
      "outputs": [
        {
          "output_type": "execute_result",
          "data": {
            "text/plain": [
              "DataFrame[name: string, age: int, experience: int, salary: int]"
            ]
          },
          "metadata": {},
          "execution_count": 65
        }
      ]
    },
    {
      "cell_type": "code",
      "source": [
        "df_renamed=df_pyspark.withColumnRenamed('name', 'new name') # rename column\n"
      ],
      "metadata": {
        "id": "k-NziqDs5TZ2"
      },
      "execution_count": 66,
      "outputs": []
    },
    {
      "cell_type": "code",
      "source": [
        "df_pyspark.na.drop() # drop all rows that contain a null value"
      ],
      "metadata": {
        "colab": {
          "base_uri": "https://localhost:8080/"
        },
        "id": "AeOk8qbQ6ChO",
        "outputId": "618eaca2-847a-4d62-ff54-882f301e7c51"
      },
      "execution_count": 67,
      "outputs": [
        {
          "output_type": "execute_result",
          "data": {
            "text/plain": [
              "DataFrame[name: string, age: int, experience: int, salary: int]"
            ]
          },
          "metadata": {},
          "execution_count": 67
        }
      ]
    },
    {
      "cell_type": "code",
      "source": [
        "df_pyspark.na.drop(how='all') # drop all rows that are fully null"
      ],
      "metadata": {
        "colab": {
          "base_uri": "https://localhost:8080/"
        },
        "id": "sBiLHJWW6reV",
        "outputId": "9308a430-8e93-485b-e30f-94c5771a82c6"
      },
      "execution_count": 68,
      "outputs": [
        {
          "output_type": "execute_result",
          "data": {
            "text/plain": [
              "DataFrame[name: string, age: int, experience: int, salary: int]"
            ]
          },
          "metadata": {},
          "execution_count": 68
        }
      ]
    },
    {
      "cell_type": "code",
      "source": [
        "df_pyspark.na.drop(how='any', subset=['experience']) # only drop the row if experience column is null"
      ],
      "metadata": {
        "colab": {
          "base_uri": "https://localhost:8080/"
        },
        "id": "5QTuVBbQ7BOx",
        "outputId": "8a8ef727-70de-4287-a993-ecc955063759"
      },
      "execution_count": 69,
      "outputs": [
        {
          "output_type": "execute_result",
          "data": {
            "text/plain": [
              "DataFrame[name: string, age: int, experience: int, salary: int]"
            ]
          },
          "metadata": {},
          "execution_count": 69
        }
      ]
    },
    {
      "cell_type": "code",
      "source": [
        "# df_replaced = df_pyspark.na.fill({\"age\": \"missing values\"}) # will fail to replace null with the string because the column is not of string type\n",
        "df_replaced = df_pyspark.na.fill({\"age\": -1}) # replace null values in age column with -1\n",
        "\n",
        "df_replaced.show()"
      ],
      "metadata": {
        "colab": {
          "base_uri": "https://localhost:8080/"
        },
        "id": "m9iLKRFu7dZ5",
        "outputId": "3a04aeb8-30d8-49ad-ec53-5b7806b2bb55"
      },
      "execution_count": 80,
      "outputs": [
        {
          "output_type": "stream",
          "name": "stdout",
          "text": [
            "+-------+---+----------+------+\n",
            "|   name|age|experience|salary|\n",
            "+-------+---+----------+------+\n",
            "|   john| -1|      NULL|   100|\n",
            "| thomas| 12|      NULL|   200|\n",
            "|jinyang| -1|        23|   300|\n",
            "+-------+---+----------+------+\n",
            "\n"
          ]
        }
      ]
    }
  ]
}